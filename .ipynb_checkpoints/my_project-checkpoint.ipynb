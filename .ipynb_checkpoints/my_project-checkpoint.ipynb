{
 "cells": [
  {
   "cell_type": "code",
   "execution_count": 3,
   "id": "e50246ed",
   "metadata": {},
   "outputs": [],
   "source": [
    "import os\n",
    "os.environ['DWAVE_API_TOKEN'] = 'Actual-DW-key'"
   ]
  },
  {
   "cell_type": "code",
   "execution_count": 1,
   "id": "6fdbed95",
   "metadata": {},
   "outputs": [],
   "source": [
    "import pandas as pd\n",
    "from sklearn.model_selection import train_test_split\n",
    "from sklearn.preprocessing import StandardScaler\n",
    "\n",
    "# Load the dataset from CSV file\n",
    "def load_dataset(filepath):\n",
    "    df = pd.read_csv(filepath)\n",
    "    X = df.iloc[:, :-1]  # All columns except the last one as features\n",
    "    y = df.iloc[:, -1]   # The last column as the target (defect label)\n",
    "    return X, y\n",
    "\n",
    "# Preprocessing the data: normalize features\n",
    "def preprocess_data(X):\n",
    "    scaler = StandardScaler()\n",
    "    X_scaled = scaler.fit_transform(X)\n",
    "    return X_scaled\n",
    "\n",
    "# Split data into training and testing sets\n",
    "def split_data(X, y, test_size=0.2, random_state=42):\n",
    "    return train_test_split(X, y, test_size=test_size, random_state=random_state)\n",
    "\n",
    "# Example usage\n",
    "X, y = load_dataset('AEEM_JIRA/EQ.csv')\n",
    "X_scaled = preprocess_data(X)\n",
    "X_train, X_test, y_train, y_test = split_data(X_scaled, y)"
   ]
  },
  {
   "cell_type": "code",
   "execution_count": 2,
   "id": "5580f8e3",
   "metadata": {},
   "outputs": [
    {
     "ename": "ValueError",
     "evalue": "API token not defined",
     "output_type": "error",
     "traceback": [
      "\u001b[1;31m---------------------------------------------------------------------------\u001b[0m",
      "\u001b[1;31mValueError\u001b[0m                                Traceback (most recent call last)",
      "Cell \u001b[1;32mIn[2], line 40\u001b[0m\n\u001b[0;32m     38\u001b[0m \u001b[38;5;66;03m# Example usage\u001b[39;00m\n\u001b[0;32m     39\u001b[0m Q \u001b[38;5;241m=\u001b[39m create_qubo(X_train, y_train)\n\u001b[1;32m---> 40\u001b[0m selected_features \u001b[38;5;241m=\u001b[39m \u001b[43msolve_qubo\u001b[49m\u001b[43m(\u001b[49m\u001b[43mQ\u001b[49m\u001b[43m)\u001b[49m\n\u001b[0;32m     42\u001b[0m \u001b[38;5;66;03m# Get the selected features from the solution\u001b[39;00m\n\u001b[0;32m     43\u001b[0m selected_feature_indices \u001b[38;5;241m=\u001b[39m [i \u001b[38;5;28;01mfor\u001b[39;00m i \u001b[38;5;129;01min\u001b[39;00m \u001b[38;5;28mrange\u001b[39m(\u001b[38;5;28mlen\u001b[39m(selected_features)) \u001b[38;5;28;01mif\u001b[39;00m selected_features[i] \u001b[38;5;241m==\u001b[39m \u001b[38;5;241m1\u001b[39m]\n",
      "Cell \u001b[1;32mIn[2], line 33\u001b[0m, in \u001b[0;36msolve_qubo\u001b[1;34m(Q)\u001b[0m\n\u001b[0;32m     32\u001b[0m \u001b[38;5;28;01mdef\u001b[39;00m \u001b[38;5;21msolve_qubo\u001b[39m(Q):\n\u001b[1;32m---> 33\u001b[0m     sampler \u001b[38;5;241m=\u001b[39m EmbeddingComposite(\u001b[43mDWaveSampler\u001b[49m\u001b[43m(\u001b[49m\u001b[43m)\u001b[49m)\n\u001b[0;32m     34\u001b[0m     response \u001b[38;5;241m=\u001b[39m sampler\u001b[38;5;241m.\u001b[39msample_qubo(Q, num_reads\u001b[38;5;241m=\u001b[39m\u001b[38;5;241m100\u001b[39m)\n\u001b[0;32m     35\u001b[0m     solution \u001b[38;5;241m=\u001b[39m response\u001b[38;5;241m.\u001b[39mfirst\u001b[38;5;241m.\u001b[39msample\n",
      "File \u001b[1;32m~\\venv_dw\\Lib\\site-packages\\dwave\\system\\samplers\\dwave_sampler.py:183\u001b[0m, in \u001b[0;36mDWaveSampler.__init__\u001b[1;34m(self, failover, retry_interval, **config)\u001b[0m\n\u001b[0;32m    180\u001b[0m \u001b[38;5;28mself\u001b[39m\u001b[38;5;241m.\u001b[39mretry_interval \u001b[38;5;241m=\u001b[39m retry_interval\n\u001b[0;32m    181\u001b[0m \u001b[38;5;28mself\u001b[39m\u001b[38;5;241m.\u001b[39m_solver_penalty \u001b[38;5;241m=\u001b[39m defaultdict(\u001b[38;5;28mint\u001b[39m)\n\u001b[1;32m--> 183\u001b[0m \u001b[38;5;28mself\u001b[39m\u001b[38;5;241m.\u001b[39mclient \u001b[38;5;241m=\u001b[39m \u001b[43mClient\u001b[49m\u001b[38;5;241;43m.\u001b[39;49m\u001b[43mfrom_config\u001b[49m\u001b[43m(\u001b[49m\u001b[38;5;241;43m*\u001b[39;49m\u001b[38;5;241;43m*\u001b[39;49m\u001b[43mconfig\u001b[49m\u001b[43m)\u001b[49m\n\u001b[0;32m    184\u001b[0m \u001b[38;5;28mself\u001b[39m\u001b[38;5;241m.\u001b[39msolver \u001b[38;5;241m=\u001b[39m \u001b[38;5;28mself\u001b[39m\u001b[38;5;241m.\u001b[39m_get_solver(penalty\u001b[38;5;241m=\u001b[39m\u001b[38;5;28mself\u001b[39m\u001b[38;5;241m.\u001b[39m_solver_penalty)\n",
      "File \u001b[1;32m~\\venv_dw\\Lib\\site-packages\\dwave\\cloud\\client\\base.py:435\u001b[0m, in \u001b[0;36mClient.from_config\u001b[1;34m(cls, config_file, profile, client, **kwargs)\u001b[0m\n\u001b[0;32m    432\u001b[0m _client \u001b[38;5;241m=\u001b[39m config\u001b[38;5;241m.\u001b[39mpop(\u001b[38;5;124m'\u001b[39m\u001b[38;5;124mclient\u001b[39m\u001b[38;5;124m'\u001b[39m, \u001b[38;5;28;01mNone\u001b[39;00m) \u001b[38;5;129;01mor\u001b[39;00m \u001b[38;5;124m'\u001b[39m\u001b[38;5;124mbase\u001b[39m\u001b[38;5;124m'\u001b[39m\n\u001b[0;32m    434\u001b[0m logger\u001b[38;5;241m.\u001b[39mdebug(\u001b[38;5;124m\"\u001b[39m\u001b[38;5;124mCreating \u001b[39m\u001b[38;5;132;01m%s\u001b[39;00m\u001b[38;5;124m.Client() with: \u001b[39m\u001b[38;5;132;01m%r\u001b[39;00m\u001b[38;5;124m\"\u001b[39m, _client, config)\n\u001b[1;32m--> 435\u001b[0m \u001b[38;5;28;01mreturn\u001b[39;00m \u001b[43m_clients\u001b[49m\u001b[43m[\u001b[49m\u001b[43m_client\u001b[49m\u001b[43m]\u001b[49m\u001b[43m(\u001b[49m\u001b[38;5;241;43m*\u001b[39;49m\u001b[38;5;241;43m*\u001b[39;49m\u001b[43mconfig\u001b[49m\u001b[43m)\u001b[49m\n",
      "File \u001b[1;32m~\\venv_dw\\Lib\\site-packages\\dwave\\cloud\\events.py:105\u001b[0m, in \u001b[0;36mdispatches_events.__call__.<locals>.wrapped\u001b[1;34m(*pargs, **kwargs)\u001b[0m\n\u001b[0;32m    103\u001b[0m dispatch_event(\u001b[38;5;28mself\u001b[39m\u001b[38;5;241m.\u001b[39mbefore_eventname, obj\u001b[38;5;241m=\u001b[39mobj, args\u001b[38;5;241m=\u001b[39margs)\n\u001b[0;32m    104\u001b[0m \u001b[38;5;28;01mtry\u001b[39;00m:\n\u001b[1;32m--> 105\u001b[0m     rval \u001b[38;5;241m=\u001b[39m \u001b[43mfn\u001b[49m\u001b[43m(\u001b[49m\u001b[38;5;241;43m*\u001b[39;49m\u001b[43mpargs\u001b[49m\u001b[43m,\u001b[49m\u001b[43m \u001b[49m\u001b[38;5;241;43m*\u001b[39;49m\u001b[38;5;241;43m*\u001b[39;49m\u001b[43mkwargs\u001b[49m\u001b[43m)\u001b[49m\n\u001b[0;32m    106\u001b[0m \u001b[38;5;28;01mexcept\u001b[39;00m \u001b[38;5;167;01mException\u001b[39;00m \u001b[38;5;28;01mas\u001b[39;00m exc:\n\u001b[0;32m    107\u001b[0m     dispatch_event(\u001b[38;5;28mself\u001b[39m\u001b[38;5;241m.\u001b[39mafter_eventname, obj\u001b[38;5;241m=\u001b[39mobj, args\u001b[38;5;241m=\u001b[39margs, exception\u001b[38;5;241m=\u001b[39mexc)\n",
      "File \u001b[1;32m~\\venv_dw\\Lib\\site-packages\\dwave\\cloud\\client\\base.py:473\u001b[0m, in \u001b[0;36mClient.__init__\u001b[1;34m(self, **kwargs)\u001b[0m\n\u001b[0;32m    470\u001b[0m     \u001b[38;5;28;01mraise\u001b[39;00m \u001b[38;5;167;01mValueError\u001b[39;00m(\u001b[38;5;124m\"\u001b[39m\u001b[38;5;124mAPI endpoint not defined\u001b[39m\u001b[38;5;124m\"\u001b[39m)\n\u001b[0;32m    472\u001b[0m \u001b[38;5;28;01mif\u001b[39;00m \u001b[38;5;129;01mnot\u001b[39;00m \u001b[38;5;28mself\u001b[39m\u001b[38;5;241m.\u001b[39mconfig\u001b[38;5;241m.\u001b[39mtoken:\n\u001b[1;32m--> 473\u001b[0m     \u001b[38;5;28;01mraise\u001b[39;00m \u001b[38;5;167;01mValueError\u001b[39;00m(\u001b[38;5;124m\"\u001b[39m\u001b[38;5;124mAPI token not defined\u001b[39m\u001b[38;5;124m\"\u001b[39m)\n\u001b[0;32m    475\u001b[0m \u001b[38;5;66;03m# Create session for main thread only\u001b[39;00m\n\u001b[0;32m    476\u001b[0m \u001b[38;5;28mself\u001b[39m\u001b[38;5;241m.\u001b[39msession \u001b[38;5;241m=\u001b[39m \u001b[38;5;28mself\u001b[39m\u001b[38;5;241m.\u001b[39mcreate_session()\n",
      "\u001b[1;31mValueError\u001b[0m: API token not defined"
     ]
    }
   ],
   "source": [
    "from dwave.system import DWaveSampler, EmbeddingComposite\n",
    "import numpy as np\n",
    "from sklearn.ensemble import RandomForestClassifier\n",
    "from sklearn.metrics import accuracy_score\n",
    "\n",
    "# Define a QUBO matrix for feature selection\n",
    "def create_qubo(X, y):\n",
    "    num_features = X.shape[1]\n",
    "    \n",
    "    # Define a Random Forest classifier for feature evaluation\n",
    "    clf = RandomForestClassifier(n_estimators=100, random_state=42)\n",
    "    \n",
    "    # Initialize QUBO matrix (zeros)\n",
    "    Q = np.zeros((num_features, num_features))\n",
    "    \n",
    "    # For each feature, calculate its importance and fill the QUBO matrix\n",
    "    clf.fit(X, y)\n",
    "    feature_importances = clf.feature_importances_\n",
    "    \n",
    "    # Objective: Select features that maximize their importance\n",
    "    for i in range(num_features):\n",
    "        Q[i, i] = -feature_importances[i]  # Diagonal terms (penalty for not selecting important features)\n",
    "    \n",
    "    # Add regularization terms to penalize the selection of too many features\n",
    "    lambda_penalty = 0.1\n",
    "    for i in range(num_features):\n",
    "        Q[i, i] += lambda_penalty\n",
    "    \n",
    "    return Q\n",
    "\n",
    "# Use a Quantum Annealer to solve the QUBO problem\n",
    "def solve_qubo(Q):\n",
    "    sampler = EmbeddingComposite(DWaveSampler())\n",
    "    response = sampler.sample_qubo(Q, num_reads=100)\n",
    "    solution = response.first.sample\n",
    "    return solution\n",
    "\n",
    "# Example usage\n",
    "Q = create_qubo(X_train, y_train)\n",
    "selected_features = solve_qubo(Q)\n",
    "\n",
    "# Get the selected features from the solution\n",
    "selected_feature_indices = [i for i in range(len(selected_features)) if selected_features[i] == 1]\n",
    "X_train_selected = X_train[:, selected_feature_indices]\n",
    "X_test_selected = X_test[:, selected_feature_indices]"
   ]
  }
 ],
 "metadata": {
  "kernelspec": {
   "display_name": "dwExpEnv",
   "language": "python",
   "name": "venv_dw"
  },
  "language_info": {
   "codemirror_mode": {
    "name": "ipython",
    "version": 3
   },
   "file_extension": ".py",
   "mimetype": "text/x-python",
   "name": "python",
   "nbconvert_exporter": "python",
   "pygments_lexer": "ipython3",
   "version": "3.11.5"
  }
 },
 "nbformat": 4,
 "nbformat_minor": 5
}
