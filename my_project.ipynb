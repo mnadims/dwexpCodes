{
 "cells": [
  {
   "cell_type": "code",
   "execution_count": 3,
   "id": "c8578777",
   "metadata": {},
   "outputs": [],
   "source": [
    "import os\n",
    "os.environ['DWAVE_API_TOKEN'] = 'Actual-DW-key'"
   ]
  },
  {
   "cell_type": "code",
   "execution_count": 1,
   "id": "012e2e75",
   "metadata": {},
   "outputs": [],
   "source": [
    "import pandas as pd\n",
    "from sklearn.model_selection import train_test_split\n",
    "from sklearn.preprocessing import StandardScaler\n",
    "\n",
    "# Load the dataset from CSV file\n",
    "def load_dataset(filepath):\n",
    "    df = pd.read_csv(filepath)\n",
    "    X = df.iloc[:, :-1]  # All columns except the last one as features\n",
    "    y = df.iloc[:, -1]   # The last column as the target (defect label)\n",
    "    return X, y\n",
    "\n",
    "# Preprocessing the data: normalize features\n",
    "def preprocess_data(X):\n",
    "    scaler = StandardScaler()\n",
    "    X_scaled = scaler.fit_transform(X)\n",
    "    return X_scaled\n",
    "\n",
    "# Split data into training and testing sets\n",
    "def split_data(X, y, test_size=0.2, random_state=42):\n",
    "    return train_test_split(X, y, test_size=test_size, random_state=random_state)\n",
    "\n",
    "# Example usage\n",
    "X, y = load_dataset('AEEM_JIRA/EQ.csv')\n",
    "X_scaled = preprocess_data(X)\n",
    "X_train, X_test, y_train, y_test = split_data(X_scaled, y)"
   ]
  },
  {
   "cell_type": "code",
   "execution_count": 28,
   "id": "b2f64f2c",
   "metadata": {},
   "outputs": [
    {
     "name": "stdout",
     "output_type": "stream",
     "text": [
      "17 [6, 10, 17, 20, 25, 27, 32, 34, 35, 37, 40, 42, 49, 52, 57, 58, 59]\n"
     ]
    }
   ],
   "source": [
    "from dwave.system import DWaveSampler, EmbeddingComposite\n",
    "import numpy as np\n",
    "from sklearn.ensemble import RandomForestClassifier\n",
    "from sklearn.metrics import accuracy_score\n",
    "\n",
    "# Define a QUBO matrix for feature selection with better scaling\n",
    "def create_qubo(X, y, regularization_factor=0.1):\n",
    "    num_features = X.shape[1]\n",
    "    \n",
    "    # Define a Random Forest classifier for feature evaluation\n",
    "    clf = RandomForestClassifier(n_estimators=100, random_state=42)\n",
    "    \n",
    "    # Fit the model to calculate feature importances\n",
    "    clf.fit(X, y)\n",
    "    feature_importances = clf.feature_importances_\n",
    "    \n",
    "    # Normalize the feature importances to ensure they are not too small or too large\n",
    "    feature_importances = (feature_importances - np.min(feature_importances)) / (np.max(feature_importances) - np.min(feature_importances))\n",
    "    \n",
    "    # Initialize QUBO matrix (zeros)\n",
    "    Q = np.zeros((num_features, num_features))\n",
    "    \n",
    "    # Objective: Select features that maximize their importance\n",
    "    for i in range(num_features):\n",
    "        Q[i, i] = -feature_importances[i]  # Negative importance to encourage selection\n",
    "    \n",
    "    # Add regularization term to penalize too many selected features\n",
    "    for i in range(num_features):\n",
    "        Q[i, i] += regularization_factor  # Regularization penalty\n",
    "    \n",
    "    # Print the QUBO matrix to verify it looks correct\n",
    "    #print(\"QUBO Matrix:\", Q)\n",
    "    \n",
    "    return Q\n",
    "\n",
    "# Use a Quantum Annealer to solve the QUBO problem\n",
    "def solve_qubo(Q):\n",
    "    sampler = EmbeddingComposite(DWaveSampler())\n",
    "    response = sampler.sample_qubo(Q, num_reads=100)\n",
    "    solution = response.first.sample\n",
    "    return solution\n",
    "\n",
    "# Tune the regularization factor\n",
    "regularization_factor = 0.25  # Start with a smaller penalty\n",
    "Q = create_qubo(X_train, y_train, regularization_factor)\n",
    "\n",
    "# Solve the QUBO problem using the D-Wave quantum annealer or a classical solver\n",
    "selected_features = solve_qubo(Q)\n",
    "\n",
    "# Get the selected features from the solution\n",
    "selected_feature_indices = [i for i in range(len(selected_features)) if selected_features[i] == 1]\n",
    "X_train_selected = X_train[:, selected_feature_indices]\n",
    "X_test_selected = X_test[:, selected_feature_indices]\n",
    "\n",
    "print(len(selected_feature_indices), selected_feature_indices)"
   ]
  },
  {
   "cell_type": "code",
   "execution_count": 29,
   "id": "3470cc6a",
   "metadata": {},
   "outputs": [
    {
     "name": "stdout",
     "output_type": "stream",
     "text": [
      "Selected Features (Classical Solver): 17 [6, 10, 17, 20, 25, 27, 32, 34, 35, 37, 40, 42, 49, 52, 57, 58, 59]\n"
     ]
    }
   ],
   "source": [
    "from dwave.samplers import SimulatedAnnealingSampler\n",
    "\n",
    "def solve_qubo_classically(Q):\n",
    "    sampler = SimulatedAnnealingSampler()\n",
    "    response = sampler.sample_qubo(Q, num_reads=100)\n",
    "    solution = response.first.sample\n",
    "    return solution\n",
    "\n",
    "# Test QUBO solution with classical simulated annealing\n",
    "selected_features_classical = solve_qubo_classically(Q)\n",
    "sf_indices_c = [i for i in range(len(selected_features_classical)) if selected_features_classical[i] == 1]\n",
    "print(\"Selected Features (Classical Solver):\", len(sf_indices_c), sf_indices_c)"
   ]
  },
  {
   "cell_type": "code",
   "execution_count": 30,
   "id": "376054f0",
   "metadata": {},
   "outputs": [
    {
     "name": "stdout",
     "output_type": "stream",
     "text": [
      "Accuracy: 0.6923\n",
      "Precision: 0.6333\n",
      "Recall: 0.6786\n",
      "F1 Score: 0.6552\n",
      "ROC-AUC Score: 0.6906\n"
     ]
    }
   ],
   "source": [
    "from sklearn.ensemble import RandomForestClassifier\n",
    "from sklearn.metrics import accuracy_score, precision_score, recall_score, f1_score, roc_auc_score\n",
    "\n",
    "# Train a classifier on the selected features\n",
    "def train_model(X_train, y_train, X_test, y_test):\n",
    "    clf = RandomForestClassifier(n_estimators=100, random_state=42)\n",
    "    clf.fit(X_train, y_train)\n",
    "    y_pred = clf.predict(X_test)\n",
    "    \n",
    "    # Calculate performance metrics\n",
    "    accuracy = accuracy_score(y_test, y_pred)\n",
    "    precision = precision_score(y_test, y_pred)\n",
    "    recall = recall_score(y_test, y_pred)\n",
    "    f1 = f1_score(y_test, y_pred)\n",
    "    roc_auc = roc_auc_score(y_test, y_pred)\n",
    "    \n",
    "    print(f\"Accuracy: {accuracy:.4f}\")\n",
    "    print(f\"Precision: {precision:.4f}\")\n",
    "    print(f\"Recall: {recall:.4f}\")\n",
    "    print(f\"F1 Score: {f1:.4f}\")\n",
    "    print(f\"ROC-AUC Score: {roc_auc:.4f}\")\n",
    "\n",
    "# Example usage\n",
    "train_model(X_train_selected, y_train, X_test_selected, y_test)"
   ]
  },
  {
   "cell_type": "code",
   "execution_count": 31,
   "id": "cb5712e6",
   "metadata": {},
   "outputs": [
    {
     "name": "stdout",
     "output_type": "stream",
     "text": [
      "Accuracy: 0.6923\n",
      "Precision: 0.6250\n",
      "Recall: 0.7143\n",
      "F1 Score: 0.6667\n",
      "ROC-AUC Score: 0.6950\n"
     ]
    }
   ],
   "source": [
    "from sklearn.feature_selection import RFE\n",
    "\n",
    "def recursive_feature_elimination(X_train, y_train):\n",
    "    clf = RandomForestClassifier(n_estimators=100, random_state=42)\n",
    "    rfe = RFE(estimator=clf, n_features_to_select=23)  # Adjust the number of features to select\n",
    "    rfe.fit(X_train, y_train)\n",
    "    \n",
    "    return rfe.support_  # Returns a boolean array indicating selected features\n",
    "\n",
    "# Example usage\n",
    "selected_features_rfe = recursive_feature_elimination(X_train, y_train)\n",
    "X_train_rfe = X_train[:, selected_features_rfe]\n",
    "X_test_rfe = X_test[:, selected_features_rfe]\n",
    "\n",
    "# Train and evaluate model using features selected by RFE\n",
    "train_model(X_train_rfe, y_train, X_test_rfe, y_test)\n"
   ]
  },
  {
   "cell_type": "code",
   "execution_count": 32,
   "id": "c83c8609",
   "metadata": {},
   "outputs": [
    {
     "name": "stdout",
     "output_type": "stream",
     "text": [
      "Accuracy: 0.5692\n",
      "Precision: 0.5000\n",
      "Recall: 0.5714\n",
      "F1 Score: 0.5333\n",
      "ROC-AUC Score: 0.5695\n"
     ]
    }
   ],
   "source": [
    "from sklearn.linear_model import LogisticRegression\n",
    "\n",
    "def l1_regularization(X_train, y_train):\n",
    "    clf = LogisticRegression(penalty='l1', solver='liblinear', random_state=42)\n",
    "    clf.fit(X_train, y_train)\n",
    "    \n",
    "    # Get selected features (non-zero coefficients)\n",
    "    selected_features_l1 = clf.coef_[0] != 0\n",
    "    return selected_features_l1\n",
    "\n",
    "# Example usage\n",
    "selected_features_l1 = l1_regularization(X_train, y_train)\n",
    "X_train_l1 = X_train[:, selected_features_l1]\n",
    "X_test_l1 = X_test[:, selected_features_l1]\n",
    "\n",
    "# Train and evaluate model using features selected by L1 regularization\n",
    "train_model(X_train_l1, y_train, X_test_l1, y_test)"
   ]
  },
  {
   "cell_type": "code",
   "execution_count": 33,
   "id": "272357bc",
   "metadata": {},
   "outputs": [
    {
     "name": "stdout",
     "output_type": "stream",
     "text": [
      "Classical Solver Time: 0.1139 seconds\n",
      "Quantum Solver Time: 1.8182 seconds\n"
     ]
    }
   ],
   "source": [
    "import time\n",
    "\n",
    "# Classical solver timing\n",
    "start_time = time.time()\n",
    "selected_features_classical = solve_qubo_classically(Q)\n",
    "classical_time = time.time() - start_time\n",
    "print(f\"Classical Solver Time: {classical_time:.4f} seconds\")\n",
    "\n",
    "# Quantum solver timing\n",
    "start_time = time.time()\n",
    "selected_features_quantum = solve_qubo(Q)\n",
    "quantum_time = time.time() - start_time\n",
    "print(f\"Quantum Solver Time: {quantum_time:.4f} seconds\")"
   ]
  },
  {
   "cell_type": "code",
   "execution_count": 35,
   "id": "e121113f",
   "metadata": {},
   "outputs": [
    {
     "name": "stdout",
     "output_type": "stream",
     "text": [
      "Average Accuracy (Classical): 0.6154\n",
      "Average Accuracy (Quantum): 0.6154\n",
      "Standard Deviation (Classical): 0.0000\n",
      "Standard Deviation (Quantum): 0.0000\n"
     ]
    }
   ],
   "source": [
    "from sklearn.metrics import accuracy_score\n",
    "\n",
    "def evaluate_multiple_runs(Q, num_runs=100):\n",
    "    clf = RandomForestClassifier(n_estimators=100, random_state=42)\n",
    "    classical_results = []\n",
    "    quantum_results = []\n",
    "\n",
    "    for _ in range(num_runs):\n",
    "        # Classical solver\n",
    "        selected_classical = solve_qubo_classically(Q)\n",
    "        X_train_classical = X_train[:, [i for i, x in enumerate(selected_classical) if x == 1]]\n",
    "        X_test_classical = X_test[:, [i for i, x in enumerate(selected_classical) if x == 1]]\n",
    "        clf.fit(X_train_classical, y_train)\n",
    "        y_pred_classical = clf.predict(X_test_classical)\n",
    "        classical_results.append(accuracy_score(y_test, y_pred_classical))\n",
    "\n",
    "        # Quantum solver\n",
    "        selected_quantum = solve_qubo(Q)\n",
    "        X_train_quantum = X_train[:, [i for i, x in enumerate(selected_quantum) if x == 1]]\n",
    "        X_test_quantum = X_test[:, [i for i, x in enumerate(selected_quantum) if x == 1]]\n",
    "        clf.fit(X_train_quantum, y_train)\n",
    "        y_pred_quantum = clf.predict(X_test_quantum)\n",
    "        quantum_results.append(accuracy_score(y_test, y_pred_quantum))\n",
    "\n",
    "    print(f\"Average Accuracy (Classical): {np.mean(classical_results):.4f}\")\n",
    "    print(f\"Average Accuracy (Quantum): {np.mean(quantum_results):.4f}\")\n",
    "    print(f\"Standard Deviation (Classical): {np.std(classical_results):.4f}\")\n",
    "    print(f\"Standard Deviation (Quantum): {np.std(quantum_results):.4f}\")\n",
    "\n",
    "# Compare results of multiple runs\n",
    "evaluate_multiple_runs(Q, num_runs=100)\n"
   ]
  }
 ],
 "metadata": {
  "kernelspec": {
   "display_name": "dwExpEnv",
   "language": "python",
   "name": "venv_dw"
  },
  "language_info": {
   "codemirror_mode": {
    "name": "ipython",
    "version": 3
   },
   "file_extension": ".py",
   "mimetype": "text/x-python",
   "name": "python",
   "nbconvert_exporter": "python",
   "pygments_lexer": "ipython3",
   "version": "3.11.5"
  }
 },
 "nbformat": 4,
 "nbformat_minor": 5
}
